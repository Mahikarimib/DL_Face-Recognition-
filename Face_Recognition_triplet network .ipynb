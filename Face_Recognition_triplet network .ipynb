{
  "nbformat": 4,
  "nbformat_minor": 0,
  "metadata": {
    "colab": {
      "name": "Face Recognition.ipynb",
      "provenance": [],
      "collapsed_sections": [],
      "authorship_tag": "ABX9TyNNGTpKh4pWAeoJeQos/Ev/",
      "include_colab_link": true
    },
    "kernelspec": {
      "name": "python3",
      "display_name": "Python 3"
    },
    "language_info": {
      "name": "python"
    }
  },
  "cells": [
    {
      "cell_type": "markdown",
      "metadata": {
        "id": "view-in-github",
        "colab_type": "text"
      },
      "source": [
        "<a href=\"https://colab.research.google.com/github/Mahikarimib/Face-Recognition-/blob/main/Face_Recognition_triplet%20network%20.ipynb\" target=\"_parent\"><img src=\"https://colab.research.google.com/assets/colab-badge.svg\" alt=\"Open In Colab\"/></a>"
      ]
    },
    {
      "cell_type": "markdown",
      "source": [
        "Face Recognition\n",
        "\n",
        "Libraries"
      ],
      "metadata": {
        "id": "r-qXkMON0V_S"
      }
    },
    {
      "cell_type": "code",
      "source": [
        "import os\n",
        "import sys\n",
        "import random\n",
        "import numpy as np\n",
        "import matplotlib.pyplot as plt\n",
        "from PIL import Image\n",
        "\n",
        "import torch\n",
        "import torch.nn as nn\n",
        "import torch.optim as optim\n",
        "import torch.nn.functional as F\n",
        "\n",
        "import torchvision\n",
        "import torchvision.utils\n",
        "import torchvision.models as models\n",
        "import torchvision.datasets as datasets\n",
        "import torchvision.transforms as transforms\n",
        "from torch.utils.data import DataLoader, Dataset\n",
        "\n",
        "from data_utils import create_validation_data"
      ],
      "metadata": {
        "id": "NkjRvxxeShOy"
      },
      "execution_count": null,
      "outputs": []
    },
    {
      "cell_type": "markdown",
      "source": [
        "Helper methods"
      ],
      "metadata": {
        "id": "Oomj7-J91Hah"
      }
    },
    {
      "cell_type": "code",
      "source": [
        "def get_model(model_name, pretrained=True):\n",
        "    return models.__dict__[model_name](pretrained)\n",
        "\n",
        "\n",
        "def imshow(img, text=None):\n",
        "    img_np = img.numpy().transpose((1, 2, 0))\n",
        "    plt.axis(\"off\")\n",
        "    if text:\n",
        "        plt.text(175, 8, text, style='italic', fontweight='bold',\n",
        "                 bbox={'facecolor': 'white', 'alpha': 0.8, 'pad': 10})\n",
        "    plt.imshow(img_np)\n",
        "    plt.show()"
      ],
      "metadata": {
        "id": "Y9KBrC5r063z"
      },
      "execution_count": null,
      "outputs": []
    },
    {
      "cell_type": "markdown",
      "source": [
        "Data"
      ],
      "metadata": {
        "id": "mqPqgpdq1aAx"
      }
    },
    {
      "cell_type": "code",
      "source": [
        "DATA_DIR = '/media/karimi/DATA/datasets/att_faces/'\n",
        "train_dir = f'{DATA_DIR}train'\n",
        "valid_dir = f'{DATA_DIR}valid'\n",
        "\n",
        "sz = 96\n",
        "batch_size = 16\n",
        "embed_size = 128\n",
        "num_epochs = 10\n",
        "\n",
        "cnn_name = 'resnet50'"
      ],
      "metadata": {
        "id": "NXzhL3qA1OwS"
      },
      "execution_count": null,
      "outputs": []
    },
    {
      "cell_type": "code",
      "source": [
        "# make validation dataset\n",
        "if not os.path.exists(valid_dir):\n",
        "    create_validation_data(train_dir, valid_dir, split=0.20, ext='jpg')"
      ],
      "metadata": {
        "id": "v5tlf4McbgiC"
      },
      "execution_count": null,
      "outputs": []
    },
    {
      "cell_type": "markdown",
      "source": [
        "Dataset"
      ],
      "metadata": {
        "id": "mwnNRavjJyoL"
      }
    },
    {
      "cell_type": "code",
      "source": [
        "class TripletNetworkDataset(Dataset):\n",
        "    \n",
        "    def __init__(self, imgs, transform=None):\n",
        "        self.imgs = imgs\n",
        "        self.transform = transform or transforms.ToTensor()\n",
        "        \n",
        "    def __getitem__(self, index):\n",
        "        # Select anchor image and its label from dataset\n",
        "        anchor, anchor_label = self.imgs[index]\n",
        "        \n",
        "        # Randomly select a positive and a negative example\n",
        "        positive = random.choice([img for img, lbl in self.imgs if lbl == anchor_label])\n",
        "        negative = random.choice([img for img, lbl in self.imgs if lbl != anchor_label])\n",
        "        \n",
        "        # read the images (anchor, positive and negative images)\n",
        "        anc_img = Image.open(anchor).convert('RGB')\n",
        "        pos_img = Image.open(positive).convert('RGB')\n",
        "        neg_img = Image.open(negative).convert('RGB')\n",
        "        \n",
        "        # perform any required transformation (if any)\n",
        "        if self.transform is not None:\n",
        "            anc_img = self.transform(anc_img)\n",
        "            pos_img = self.transform(pos_img)\n",
        "            neg_img = self.transform(neg_img)\n",
        "        \n",
        "        return anc_img, pos_img, neg_img\n",
        "    \n",
        "    def __len__(self):\n",
        "        return len(self.imgs)"
      ],
      "metadata": {
        "id": "yEsFJ2rV1P5o"
      },
      "execution_count": null,
      "outputs": []
    },
    {
      "cell_type": "markdown",
      "source": [
        "Training Data"
      ],
      "metadata": {
        "id": "nG8WJiWsc4vr"
      }
    },
    {
      "cell_type": "code",
      "source": [
        "zoom = int((1.0 + random.random() / 10.0) * sz)  # up to 10 percent zoom\n",
        "\n",
        "tfms = transforms.Compose([\n",
        "    transforms.Resize((zoom, zoom)),\n",
        "    transforms.RandomCrop(sz),\n",
        "    transforms.RandomHorizontalFlip(),\n",
        "    transforms.RandomRotation(5),\n",
        "    transforms.ToTensor()\n",
        "])\n",
        "\n",
        "face_dataset = datasets.ImageFolder(train_dir)\n",
        "train_ds = TripletNetworkDataset(face_dataset.imgs, transform=tfms)\n",
        "train_dl = DataLoader(train_ds, batch_size=8, shuffle=True, num_workers=0)"
      ],
      "metadata": {
        "id": "Sl1_-fTUS5RK"
      },
      "execution_count": null,
      "outputs": []
    },
    {
      "cell_type": "markdown",
      "source": [
        "Validation data"
      ],
      "metadata": {
        "id": "XbQkIbXZd-BC"
      }
    },
    {
      "cell_type": "code",
      "source": [
        "valid_tfms = transforms.Compose([\n",
        "    transforms.Resize((zoom, zoom)),\n",
        "    transforms.ToTensor()\n",
        "])\n",
        "\n",
        "valid_face_dataset = datasets.ImageFolder(valid_dir)\n",
        "valid_ds = TripletNetworkDataset(valid_face_dataset.imgs, transform=valid_tfms)\n",
        "valid_dl = DataLoader(valid_ds, batch_size=batch_size, shuffle=False, num_workers=0)"
      ],
      "metadata": {
        "id": "m6eEo-qjTCDE"
      },
      "execution_count": null,
      "outputs": []
    },
    {
      "cell_type": "markdown",
      "source": [
        "Visualize dataset"
      ],
      "metadata": {
        "id": "iGZ2DUzaedsf"
      }
    },
    {
      "cell_type": "code",
      "source": [
        "anch_imgs, pos_imgs, neg_imgs = next(iter(train_dl))\n",
        "concat = torch.cat((anch_imgs, pos_imgs, neg_imgs), 0)\n",
        "plt.figure(figsize=(24, 9))\n",
        "imshow(torchvision.utils.make_grid(concat, nrow=8))"
      ],
      "metadata": {
        "id": "wxyDZDW-TgH3"
      },
      "execution_count": null,
      "outputs": []
    },
    {
      "cell_type": "markdown",
      "source": [
        "Model: Triplet Netwok"
      ],
      "metadata": {
        "id": "RHvqGWG2TohB"
      }
    },
    {
      "cell_type": "code",
      "source": [
        "class TripletNetwork(nn.Module):\n",
        "    \n",
        "    def __init__(self, model, embed_size):\n",
        "        super(TripletNetwork, self).__init__()\n",
        "        num_features = model.fc.in_features\n",
        "        model.fc = nn.Sequential(\n",
        "            nn.Linear(num_features, 512),\n",
        "            nn.BatchNorm1d(512),\n",
        "            nn.ReLU(),           \n",
        "            nn.Linear(512, embed_size))\n",
        "        self.model = model\n",
        "        \n",
        "    def forward(self, anc, pos, neg):\n",
        "        f_anc = self.model(anc)\n",
        "        f_pos = self.model(pos)\n",
        "        f_neg = self.model(neg)\n",
        "        return f_anc, f_pos, f_neg"
      ],
      "metadata": {
        "id": "IjdkmXYIT6pv"
      },
      "execution_count": null,
      "outputs": []
    },
    {
      "cell_type": "markdown",
      "source": [
        "Loss: Triplet Loss"
      ],
      "metadata": {
        "id": "FP-S3F0pekZc"
      }
    },
    {
      "cell_type": "code",
      "source": [
        "class TripletLoss(nn.Module):\n",
        "\n",
        "    def __init__(self, margin=0.2):\n",
        "        super(TripletLoss, self).__init__()\n",
        "        self.margin = margin\n",
        "\n",
        "    def forward(self, f_anc, f_pos, f_neg):\n",
        "        pos_distance = F.pairwise_distance(f_anc, f_pos)\n",
        "        neg_distance = F.pairwise_distance(f_anc, f_neg)\n",
        "        loss = torch.sum(torch.clamp(torch.pow(pos_distance, 2) - \\\n",
        "                                     torch.pow(neg_distance, 2) + self.margin, min=0))\n",
        "        return loss"
      ],
      "metadata": {
        "id": "B4y9pT_vUPR-"
      },
      "execution_count": null,
      "outputs": []
    },
    {
      "cell_type": "markdown",
      "source": [
        "Train"
      ],
      "metadata": {
        "id": "hz2bmxE0gArV"
      }
    },
    {
      "cell_type": "code",
      "source": [
        "def train_step(model, train_dl, criterion, optimizer, device):\n",
        "    model.train()\n",
        "    \n",
        "    N = len(train_dl.dataset)\n",
        "    steps = N // train_dl.batch_size\n",
        "    avg_loss = 0.0\n",
        "    \n",
        "    for i, (anc, pos, neg) in enumerate(train_dl):\n",
        "        anc, pos, neg = anc.to(device), pos.to(device), neg.to(device)\n",
        "        \n",
        "        # forward\n",
        "        f_anc, f_pos, f_neg = model(anc, pos, neg)\n",
        "        \n",
        "        # loss\n",
        "        loss = criterion(f_anc, f_pos, f_neg)\n",
        "        avg_loss = (avg_loss * i + loss.item()) / (i + 1)\n",
        "        \n",
        "        # backward\n",
        "        optimizer.zero_grad()\n",
        "        loss.backward()\n",
        "        optimizer.step()\n",
        "        \n",
        "        # report\n",
        "        sys.stdout.flush()\n",
        "        sys.stdout.write(\"\\r Training Step [{:2d}/{:2d}]: loss {:.5f}  \".format(i+1, steps, avg_loss))\n",
        "        \n",
        "    print()\n",
        "\n",
        "    return model, avg_loss    \n",
        "\n",
        "\n",
        "def validate_step(model, valid_dl, criterion, device):\n",
        "    model.eval()\n",
        "    \n",
        "    N = len(valid_dl.dataset)\n",
        "    steps = N // valid_dl.batch_size\n",
        "    avg_loss = 0.0\n",
        "    \n",
        "    with torch.no_grad():\n",
        "        for i, (anc, pos, neg) in enumerate(valid_dl):\n",
        "            anc, pos, neg = anc.to(device), pos.to(device), neg.to(device)\n",
        "\n",
        "            f_anc, f_pos, f_neg = model(anc, pos, neg)\n",
        "            loss = criterion(f_anc, f_pos, f_neg)\n",
        "            avg_loss = (avg_loss * i + loss.item()) / (i + 1)\n",
        "\n",
        "            # report\n",
        "            sys.stdout.flush()\n",
        "            sys.stdout.write(\"\\r Validation Step [{:2d}/{:2d}]: loss {:.5f}  \".format(i+1, steps, avg_loss))\n",
        "    print()\n",
        "    \n",
        "    return avg_loss\n",
        "\n",
        "\n",
        "def train(model, train_dl, valid_dl, criterion, optimizer, device, scheduler=None, num_epochs=10):\n",
        "    best_loss = float('inf')\n",
        "    best_weights = model.state_dict().copy()\n",
        "    \n",
        "    train_loss_history, valid_loss_history = [], []\n",
        "    \n",
        "    for epoch in range(num_epochs):\n",
        "        print(f'Epoch {epoch + 1}\\n--------')\n",
        "        \n",
        "        model, train_loss = train_step(model, train_dl, criterion, optimizer, device)\n",
        "        valid_loss = validate_step(model, valid_dl, criterion, device)\n",
        "        if scheduler:\n",
        "            scheduler.step()\n",
        "            \n",
        "        train_loss_history.append(train_loss)\n",
        "        valid_loss_history.append(valid_loss)\n",
        "        \n",
        "        if valid_loss < best_loss:\n",
        "            best_loss = valid_loss\n",
        "            best_weights = model.state_dict().copy()\n",
        "        print()\n",
        "    loss_history = (train_loss_history, valid_loss_history)\n",
        "    model.load_state_dict(best_weights)\n",
        "    return model, best_weights, loss_history"
      ],
      "metadata": {
        "id": "YSRAPbKMhnx1"
      },
      "execution_count": null,
      "outputs": []
    },
    {
      "cell_type": "code",
      "source": [
        "# data\n",
        "train_dl = DataLoader(train_ds, batch_size=batch_size, shuffle=True,  num_workers=0)\n",
        "valid_dl = DataLoader(valid_ds, batch_size=batch_size, shuffle=False, num_workers=0)\n",
        " \n",
        "# model\n",
        "cnn = get_model(cnn_name)\n",
        "device = torch.device('cuda' if torch.cuda.is_available() else 'cpu')\n",
        "model = TripletNetwork(cnn, embed_size).to(device)\n",
        "\n",
        "# loss and optimizer\n",
        "criterion = TripletLoss().to(device)\n",
        "optimizer = optim.Adam(model.parameters(), lr=0.0002)\n",
        "scheduler = optim.lr_scheduler.StepLR(optimizer, step_size=5, gamma=0.5)"
      ],
      "metadata": {
        "id": "WS-jmcsvUkRK"
      },
      "execution_count": null,
      "outputs": []
    },
    {
      "cell_type": "markdown",
      "source": [
        "Training"
      ],
      "metadata": {
        "id": "kF_g66XmUu5h"
      }
    },
    {
      "cell_type": "code",
      "source": [
        "model, best_weights, loss_hist = train(model, \n",
        "                                       train_dl, valid_dl, \n",
        "                                       criterion, optimizer, \n",
        "                                       device,\n",
        "                                       scheduler, \n",
        "                                       num_epochs=num_epochs)"
      ],
      "metadata": {
        "id": "L40PkPROU1DW"
      },
      "execution_count": null,
      "outputs": []
    },
    {
      "cell_type": "code",
      "source": [
        "plt.figure(figsize=(12, 4))\n",
        "plt.plot(loss_hist[0], 'g', label='Training loss')\n",
        "plt.plot(loss_hist[1], 'r', label='Validation loss')\n",
        "plt.xlabel('Epoch')\n",
        "plt.ylabel('Loss')\n",
        "plt.legend()\n",
        "plt.title(\"Training and Validation Loss\");"
      ],
      "metadata": {
        "id": "fR4iLNEHU9N4"
      },
      "execution_count": null,
      "outputs": []
    },
    {
      "cell_type": "markdown",
      "source": [
        "Testing"
      ],
      "metadata": {
        "id": "RdaXDntBVC5R"
      }
    },
    {
      "cell_type": "code",
      "source": [
        "valid_dl = DataLoader(valid_ds, batch_size=1, shuffle=True)"
      ],
      "metadata": {
        "id": "kTujE5sHVEth"
      },
      "execution_count": null,
      "outputs": []
    },
    {
      "cell_type": "code",
      "source": [
        "model.eval()\n",
        "\n",
        "dataiter = iter(valid_dl)\n",
        "\n",
        "with torch.no_grad():\n",
        "    for i in range(20):\n",
        "        x0, x1, x2 = next(dataiter)\n",
        "        concat = torch.cat((x0, x1, x2), 0)\n",
        "        f0, f1, f2 = model(x0.to(device), x1.to(device), x2.to(device))\n",
        "        pos_distance = F.pairwise_distance(f0, f1)\n",
        "        neg_distance = F.pairwise_distance(f0, f2)\n",
        "        imshow(torchvision.utils.make_grid(concat), f'Dissimilarities: ({pos_distance.item():.2f}, {neg_distance.item():.2f})')"
      ],
      "metadata": {
        "id": "Jh50a7QIVHWl"
      },
      "execution_count": null,
      "outputs": []
    }
  ]
}